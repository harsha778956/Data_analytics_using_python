import pandas as pd

data=pd.read_csv("ecommerce_dataset_updated.csv")
data

c_data=data.loc[:,["Product_ID","Category"]]

sales_per_category=c_data.groupby("Category").count()
sales_per_category

import matplotlib.pyplot as plt
import seaborn as sns

sns.set(style="whitegrid")
sns.countplot(data=sales_per_category,x="Category",y="Prouduct_id")
plt.show()
